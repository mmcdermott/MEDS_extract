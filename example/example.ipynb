{
 "cells": [
  {
   "cell_type": "markdown",
   "id": "0",
   "metadata": {},
   "source": [
    "# Example ETL via MEDS-Extract\n",
    "\n",
    "In this example, we'll extract some raw data into the MEDS format via MEDS-Extract. To start with, let's inspect our input (synthetic) raw data:"
   ]
  },
  {
   "cell_type": "code",
   "execution_count": 6,
   "id": "1",
   "metadata": {},
   "outputs": [],
   "source": [
    "from pathlib import Path\n",
    "\n",
    "from pretty_print_directory import print_directory\n",
    "\n",
    "DATA_ROOT = Path(\"raw_data\")"
   ]
  },
  {
   "cell_type": "code",
   "execution_count": 7,
   "id": "2",
   "metadata": {},
   "outputs": [
    {
     "name": "stdout",
     "output_type": "stream",
     "text": [
      "├── diagnoses.csv\n",
      "├── labs_vitals.csv\n",
      "├── medications.csv\n",
      "└── patients.csv\n"
     ]
    }
   ],
   "source": [
    "print_directory(DATA_ROOT)"
   ]
  },
  {
   "cell_type": "markdown",
   "id": "3",
   "metadata": {},
   "source": [
    "We can see there are four `csv` files; let's look at what they contain, using [`polars`](https://docs.pola.rs/) as our dataframe engine."
   ]
  },
  {
   "cell_type": "code",
   "execution_count": 8,
   "id": "4",
   "metadata": {},
   "outputs": [
    {
     "name": "stdout",
     "output_type": "stream",
     "text": [
      "diagnoses: \n"
     ]
    },
    {
     "data": {
      "text/html": [
       "<div><style>\n",
       ".dataframe > thead > tr,\n",
       ".dataframe > tbody > tr {\n",
       "  text-align: right;\n",
       "  white-space: pre-wrap;\n",
       "}\n",
       "</style>\n",
       "<small>shape: (2, 2)</small><table border=\"1\" class=\"dataframe\"><thead><tr><th>patient_id</th><th>icd10_code</th></tr><tr><td>str</td><td>str</td></tr></thead><tbody><tr><td>&quot;P0001&quot;</td><td>&quot;E11.9&quot;</td></tr><tr><td>&quot;P0001&quot;</td><td>&quot;I10&quot;</td></tr></tbody></table></div>"
      ],
      "text/plain": [
       "shape: (2, 2)\n",
       "┌────────────┬────────────┐\n",
       "│ patient_id ┆ icd10_code │\n",
       "│ ---        ┆ ---        │\n",
       "│ str        ┆ str        │\n",
       "╞════════════╪════════════╡\n",
       "│ P0001      ┆ E11.9      │\n",
       "│ P0001      ┆ I10        │\n",
       "└────────────┴────────────┘"
      ]
     },
     "metadata": {},
     "output_type": "display_data"
    },
    {
     "name": "stdout",
     "output_type": "stream",
     "text": [
      "labs_vitals: \n"
     ]
    },
    {
     "data": {
      "text/html": [
       "<div><style>\n",
       ".dataframe > thead > tr,\n",
       ".dataframe > tbody > tr {\n",
       "  text-align: right;\n",
       "  white-space: pre-wrap;\n",
       "}\n",
       "</style>\n",
       "<small>shape: (2, 4)</small><table border=\"1\" class=\"dataframe\"><thead><tr><th>test_name</th><th>patient_id</th><th>timestamp</th><th>result</th></tr><tr><td>str</td><td>str</td><td>str</td><td>f64</td></tr></thead><tbody><tr><td>&quot;Glucose&quot;</td><td>&quot;P0001&quot;</td><td>&quot;2024-11-28T01:14:00&quot;</td><td>236.8</td></tr><tr><td>&quot;Blood Pressure Systolic&quot;</td><td>&quot;P0001&quot;</td><td>&quot;2025-02-14T08:04:00&quot;</td><td>153.0</td></tr></tbody></table></div>"
      ],
      "text/plain": [
       "shape: (2, 4)\n",
       "┌─────────────────────────┬────────────┬─────────────────────┬────────┐\n",
       "│ test_name               ┆ patient_id ┆ timestamp           ┆ result │\n",
       "│ ---                     ┆ ---        ┆ ---                 ┆ ---    │\n",
       "│ str                     ┆ str        ┆ str                 ┆ f64    │\n",
       "╞═════════════════════════╪════════════╪═════════════════════╪════════╡\n",
       "│ Glucose                 ┆ P0001      ┆ 2024-11-28T01:14:00 ┆ 236.8  │\n",
       "│ Blood Pressure Systolic ┆ P0001      ┆ 2025-02-14T08:04:00 ┆ 153.0  │\n",
       "└─────────────────────────┴────────────┴─────────────────────┴────────┘"
      ]
     },
     "metadata": {},
     "output_type": "display_data"
    },
    {
     "name": "stdout",
     "output_type": "stream",
     "text": [
      "medications: \n"
     ]
    },
    {
     "data": {
      "text/html": [
       "<div><style>\n",
       ".dataframe > thead > tr,\n",
       ".dataframe > tbody > tr {\n",
       "  text-align: right;\n",
       "  white-space: pre-wrap;\n",
       "}\n",
       "</style>\n",
       "<small>shape: (2, 4)</small><table border=\"1\" class=\"dataframe\"><thead><tr><th>medication_name</th><th>dose</th><th>patient_id</th><th>timestamp</th></tr><tr><td>str</td><td>str</td><td>str</td><td>str</td></tr></thead><tbody><tr><td>&quot;Metformin&quot;</td><td>&quot;500 mg&quot;</td><td>&quot;P0001&quot;</td><td>&quot;2024-01-17T13:26:00&quot;</td></tr><tr><td>&quot;Insulin glargine&quot;</td><td>&quot;10 units&quot;</td><td>&quot;P0001&quot;</td><td>&quot;2024-03-25T17:29:00&quot;</td></tr></tbody></table></div>"
      ],
      "text/plain": [
       "shape: (2, 4)\n",
       "┌──────────────────┬──────────┬────────────┬─────────────────────┐\n",
       "│ medication_name  ┆ dose     ┆ patient_id ┆ timestamp           │\n",
       "│ ---              ┆ ---      ┆ ---        ┆ ---                 │\n",
       "│ str              ┆ str      ┆ str        ┆ str                 │\n",
       "╞══════════════════╪══════════╪════════════╪═════════════════════╡\n",
       "│ Metformin        ┆ 500 mg   ┆ P0001      ┆ 2024-01-17T13:26:00 │\n",
       "│ Insulin glargine ┆ 10 units ┆ P0001      ┆ 2024-03-25T17:29:00 │\n",
       "└──────────────────┴──────────┴────────────┴─────────────────────┘"
      ]
     },
     "metadata": {},
     "output_type": "display_data"
    },
    {
     "name": "stdout",
     "output_type": "stream",
     "text": [
      "patients: \n"
     ]
    },
    {
     "data": {
      "text/html": [
       "<div><style>\n",
       ".dataframe > thead > tr,\n",
       ".dataframe > tbody > tr {\n",
       "  text-align: right;\n",
       "  white-space: pre-wrap;\n",
       "}\n",
       "</style>\n",
       "<small>shape: (2, 5)</small><table border=\"1\" class=\"dataframe\"><thead><tr><th>patient_id</th><th>eye_color</th><th>hair_color</th><th>birth_datetime</th><th>death_datetime</th></tr><tr><td>str</td><td>str</td><td>str</td><td>str</td><td>str</td></tr></thead><tbody><tr><td>&quot;P0001&quot;</td><td>&quot;gray&quot;</td><td>&quot;black&quot;</td><td>&quot;1954-01-24T08:15:00&quot;</td><td>&quot;2011-12-15T06:38:07&quot;</td></tr><tr><td>&quot;P0002&quot;</td><td>&quot;gray&quot;</td><td>&quot;brown&quot;</td><td>&quot;1994-01-01T02:13:00&quot;</td><td>&quot;2020-12-05T03:18:10&quot;</td></tr></tbody></table></div>"
      ],
      "text/plain": [
       "shape: (2, 5)\n",
       "┌────────────┬───────────┬────────────┬─────────────────────┬─────────────────────┐\n",
       "│ patient_id ┆ eye_color ┆ hair_color ┆ birth_datetime      ┆ death_datetime      │\n",
       "│ ---        ┆ ---       ┆ ---        ┆ ---                 ┆ ---                 │\n",
       "│ str        ┆ str       ┆ str        ┆ str                 ┆ str                 │\n",
       "╞════════════╪═══════════╪════════════╪═════════════════════╪═════════════════════╡\n",
       "│ P0001      ┆ gray      ┆ black      ┆ 1954-01-24T08:15:00 ┆ 2011-12-15T06:38:07 │\n",
       "│ P0002      ┆ gray      ┆ brown      ┆ 1994-01-01T02:13:00 ┆ 2020-12-05T03:18:10 │\n",
       "└────────────┴───────────┴────────────┴─────────────────────┴─────────────────────┘"
      ]
     },
     "metadata": {},
     "output_type": "display_data"
    }
   ],
   "source": [
    "import polars as pl\n",
    "from IPython.display import display  # This is used for nice displays later\n",
    "\n",
    "dfs = {}\n",
    "for fn in (\"diagnoses\", \"labs_vitals\", \"medications\", \"patients\"):\n",
    "    fp = DATA_ROOT / f\"{fn}.csv\"\n",
    "    dfs[fn] = pl.read_csv(fp)\n",
    "    print(f\"{fn}: \")\n",
    "    display(dfs[fn].head(2))"
   ]
  },
  {
   "cell_type": "markdown",
   "id": "5",
   "metadata": {},
   "source": [
    "Following the conventions of MEDS-Extract, we'll use the event conversion configuration file stored in `event_cfg.yaml` in this directory to parse these data:"
   ]
  },
  {
   "cell_type": "code",
   "execution_count": 9,
   "id": "6",
   "metadata": {},
   "outputs": [
    {
     "name": "stdout",
     "output_type": "stream",
     "text": [
      "subject_id_col: patient_id\n",
      "\n",
      "patients:\n",
      "  eye_color:\n",
      "    code:\n",
      "      - EYE_COLOR\n",
      "      - col(eye_color)\n",
      "    time: null\n",
      "  hair_color:\n",
      "    code:\n",
      "      - HAIR_COLOR\n",
      "      - col(hair_color)\n",
      "    time: null\n",
      "  dob:\n",
      "    code: MEDS_BIRTH\n",
      "    time: col(birth_datetime)\n",
      "    time_format: \"%Y-%m-%dT%H:%M:%S\"\n",
      "  dod:\n",
      "    code: MEDS_DEATH\n",
      "    time: col(death_datetime)\n",
      "    time_format: \"%Y-%m-%dT%H:%M:%S\"\n",
      "\n",
      "labs_vitals:\n",
      "  lab:\n",
      "    code: col(test_name)\n",
      "    time: col(timestamp)\n",
      "    time_format: \"%Y-%m-%dT%H:%M:%S\"\n",
      "    numeric_value: col(result)\n",
      "\n",
      "medications:\n",
      "  med:\n",
      "    code:\n",
      "      - col(medication_name)\n",
      "      - col(dose)\n",
      "    time: col(timestamp)\n",
      "    time_format: \"%Y-%m-%dT%H:%M:%S\"\n",
      "    numeric_value: col(dose)\n",
      "\n",
      "diagnoses:\n",
      "  dx:\n",
      "    code: col(icd10_code)\n",
      "    time: col(timestamp)\n",
      "    time_format: \"%Y-%m-%dT%H:%M:%S\"\n",
      "\n"
     ]
    }
   ],
   "source": [
    "print(Path(\"event_cfg.yaml\").read_text())"
   ]
  },
  {
   "cell_type": "markdown",
   "id": "7",
   "metadata": {},
   "source": [
    "Now, we can simply run the pipeline via the traditional syntax in MEDS-Transforms:\n",
    "\n",
    "```bash\n",
    "MEDS_transform-pipeline pkg://MEDS_extract.configs._extract.yaml --overrides input_dir=raw_data output_dir=$OUTPUT_DIR\n",
    "```"
   ]
  },
  {
   "cell_type": "code",
   "execution_count": 10,
   "id": "8",
   "metadata": {},
   "outputs": [
    {
     "name": "stderr",
     "output_type": "stream",
     "text": [
      "Traceback (most recent call last):\n",
      "  File \"/home/mmd/mambaforge/envs/MEDS_extract/bin/MEDS_transform-pipeline\", line 8, in <module>\n",
      "    sys.exit(main())\n",
      "             ^^^^^^\n",
      "  File \"/home/mmd/mambaforge/envs/MEDS_extract/lib/python3.12/site-packages/MEDS_transforms/runner.py\", line 345, in main\n",
      "    run_stage(\n",
      "  File \"/home/mmd/mambaforge/envs/MEDS_extract/lib/python3.12/site-packages/MEDS_transforms/runner.py\", line 273, in run_stage\n",
      "    raise ValueError(\n",
      "ValueError: Stage shard_events failed via MEDS_transform-stage pkg://MEDS_extract.configs._extract.yaml shard_events stage=shard_events input_dir=raw_data output_dir=MEDS_output with return code 1.\n"
     ]
    },
    {
     "ename": "CalledProcessError",
     "evalue": "Command 'b'MEDS_transform-pipeline pkg://MEDS_extract.configs._extract.yaml --overrides input_dir=raw_data output_dir=MEDS_output\\n'' returned non-zero exit status 1.",
     "output_type": "error",
     "traceback": [
      "\u001b[31m---------------------------------------------------------------------------\u001b[39m",
      "\u001b[31mCalledProcessError\u001b[39m                        Traceback (most recent call last)",
      "\u001b[36mCell\u001b[39m\u001b[36m \u001b[39m\u001b[32mIn[10]\u001b[39m\u001b[32m, line 1\u001b[39m\n\u001b[32m----> \u001b[39m\u001b[32m1\u001b[39m \u001b[43mget_ipython\u001b[49m\u001b[43m(\u001b[49m\u001b[43m)\u001b[49m\u001b[43m.\u001b[49m\u001b[43mrun_cell_magic\u001b[49m\u001b[43m(\u001b[49m\u001b[33;43m'\u001b[39;49m\u001b[33;43mbash\u001b[39;49m\u001b[33;43m'\u001b[39;49m\u001b[43m,\u001b[49m\u001b[43m \u001b[49m\u001b[33;43m'\u001b[39;49m\u001b[33;43m'\u001b[39;49m\u001b[43m,\u001b[49m\u001b[43m \u001b[49m\u001b[33;43m'\u001b[39;49m\u001b[33;43mMEDS_transform-pipeline pkg://MEDS_extract.configs._extract.yaml --overrides input_dir=raw_data output_dir=MEDS_output\u001b[39;49m\u001b[38;5;130;43;01m\\n\u001b[39;49;00m\u001b[33;43m'\u001b[39;49m\u001b[43m)\u001b[49m\n",
      "\u001b[36mFile \u001b[39m\u001b[32m~/mambaforge/envs/MEDS_extract/lib/python3.12/site-packages/IPython/core/interactiveshell.py:2565\u001b[39m, in \u001b[36mInteractiveShell.run_cell_magic\u001b[39m\u001b[34m(self, magic_name, line, cell)\u001b[39m\n\u001b[32m   2563\u001b[39m \u001b[38;5;28;01mwith\u001b[39;00m \u001b[38;5;28mself\u001b[39m.builtin_trap:\n\u001b[32m   2564\u001b[39m     args = (magic_arg_s, cell)\n\u001b[32m-> \u001b[39m\u001b[32m2565\u001b[39m     result = \u001b[43mfn\u001b[49m\u001b[43m(\u001b[49m\u001b[43m*\u001b[49m\u001b[43margs\u001b[49m\u001b[43m,\u001b[49m\u001b[43m \u001b[49m\u001b[43m*\u001b[49m\u001b[43m*\u001b[49m\u001b[43mkwargs\u001b[49m\u001b[43m)\u001b[49m\n\u001b[32m   2567\u001b[39m \u001b[38;5;66;03m# The code below prevents the output from being displayed\u001b[39;00m\n\u001b[32m   2568\u001b[39m \u001b[38;5;66;03m# when using magics with decorator @output_can_be_silenced\u001b[39;00m\n\u001b[32m   2569\u001b[39m \u001b[38;5;66;03m# when the last Python token in the expression is a ';'.\u001b[39;00m\n\u001b[32m   2570\u001b[39m \u001b[38;5;28;01mif\u001b[39;00m \u001b[38;5;28mgetattr\u001b[39m(fn, magic.MAGIC_OUTPUT_CAN_BE_SILENCED, \u001b[38;5;28;01mFalse\u001b[39;00m):\n",
      "\u001b[36mFile \u001b[39m\u001b[32m~/mambaforge/envs/MEDS_extract/lib/python3.12/site-packages/IPython/core/magics/script.py:160\u001b[39m, in \u001b[36mScriptMagics._make_script_magic.<locals>.named_script_magic\u001b[39m\u001b[34m(line, cell)\u001b[39m\n\u001b[32m    158\u001b[39m \u001b[38;5;28;01melse\u001b[39;00m:\n\u001b[32m    159\u001b[39m     line = script\n\u001b[32m--> \u001b[39m\u001b[32m160\u001b[39m \u001b[38;5;28;01mreturn\u001b[39;00m \u001b[38;5;28;43mself\u001b[39;49m\u001b[43m.\u001b[49m\u001b[43mshebang\u001b[49m\u001b[43m(\u001b[49m\u001b[43mline\u001b[49m\u001b[43m,\u001b[49m\u001b[43m \u001b[49m\u001b[43mcell\u001b[49m\u001b[43m)\u001b[49m\n",
      "\u001b[36mFile \u001b[39m\u001b[32m~/mambaforge/envs/MEDS_extract/lib/python3.12/site-packages/IPython/core/magics/script.py:343\u001b[39m, in \u001b[36mScriptMagics.shebang\u001b[39m\u001b[34m(self, line, cell)\u001b[39m\n\u001b[32m    338\u001b[39m \u001b[38;5;28;01mif\u001b[39;00m args.raise_error \u001b[38;5;129;01mand\u001b[39;00m p.returncode != \u001b[32m0\u001b[39m:\n\u001b[32m    339\u001b[39m     \u001b[38;5;66;03m# If we get here and p.returncode is still None, we must have\u001b[39;00m\n\u001b[32m    340\u001b[39m     \u001b[38;5;66;03m# killed it but not yet seen its return code. We don't wait for it,\u001b[39;00m\n\u001b[32m    341\u001b[39m     \u001b[38;5;66;03m# in case it's stuck in uninterruptible sleep. -9 = SIGKILL\u001b[39;00m\n\u001b[32m    342\u001b[39m     rc = p.returncode \u001b[38;5;129;01mor\u001b[39;00m -\u001b[32m9\u001b[39m\n\u001b[32m--> \u001b[39m\u001b[32m343\u001b[39m     \u001b[38;5;28;01mraise\u001b[39;00m CalledProcessError(rc, cell)\n",
      "\u001b[31mCalledProcessError\u001b[39m: Command 'b'MEDS_transform-pipeline pkg://MEDS_extract.configs._extract.yaml --overrides input_dir=raw_data output_dir=MEDS_output\\n'' returned non-zero exit status 1."
     ]
    }
   ],
   "source": [
    "%%bash\n",
    "MEDS_transform-pipeline pkg://MEDS_extract.configs._extract.yaml --overrides input_dir=raw_data output_dir=MEDS_output"
   ]
  },
  {
   "cell_type": "code",
   "execution_count": null,
   "id": "9",
   "metadata": {},
   "outputs": [],
   "source": []
  }
 ],
 "metadata": {
  "kernelspec": {
   "display_name": "Python 3 (ipykernel)",
   "language": "python",
   "name": "python3"
  },
  "language_info": {
   "codemirror_mode": {
    "name": "ipython",
    "version": 3
   },
   "file_extension": ".py",
   "mimetype": "text/x-python",
   "name": "python",
   "nbconvert_exporter": "python",
   "pygments_lexer": "ipython3",
   "version": "3.12.9"
  }
 },
 "nbformat": 4,
 "nbformat_minor": 5
}
